{
 "cells": [
  {
   "cell_type": "markdown",
   "metadata": {},
   "source": [
    "# MILES TO KM CONVETOR"
   ]
  },
  {
   "cell_type": "code",
   "execution_count": 3,
   "metadata": {},
   "outputs": [],
   "source": [
    "def miles_to_km(miles):\n",
    "    km = miles * 1.6\n",
    "    print(str(miles)+ \" when converted to km is: \" + str(km))"
   ]
  },
  {
   "cell_type": "code",
   "execution_count": 4,
   "metadata": {},
   "outputs": [
    {
     "name": "stdout",
     "output_type": "stream",
     "text": [
      "7 when converted to km is: 11.200000000000001\n"
     ]
    }
   ],
   "source": [
    "miles_to_km(7)"
   ]
  },
  {
   "cell_type": "markdown",
   "metadata": {},
   "source": [
    "# BMI CALCULATOR"
   ]
  },
  {
   "cell_type": "code",
   "execution_count": 5,
   "metadata": {},
   "outputs": [
    {
     "name": "stdout",
     "output_type": "stream",
     "text": [
      "21.484374999999996\n",
      "You are normal\n"
     ]
    }
   ],
   "source": [
    "# w: input(\"Enter weight in kg \")\n",
    "# h: input(\"Enter height in metres (1m = 3'2) \")\n",
    "\n",
    "def bmical(w, h):\n",
    "    bmi = w/(h ** 2)\n",
    "    print(bmi)\n",
    "    if(bmi < 18.5):\n",
    "        print(\"You are underweight\")\n",
    "    elif(bmi > 25):\n",
    "        print(\"You are overweight\")\n",
    "    else:\n",
    "        print(\"You are normal\")\n",
    "\n",
    "bmical(55,1.6)"
   ]
  },
  {
   "cell_type": "markdown",
   "metadata": {},
   "source": [
    "# PRACTICE SNIPPETS"
   ]
  },
  {
   "cell_type": "code",
   "execution_count": 6,
   "metadata": {},
   "outputs": [],
   "source": [
    "l1 = [\"banana\", \"apple\", \"microsoft\"]"
   ]
  },
  {
   "cell_type": "code",
   "execution_count": 3,
   "metadata": {},
   "outputs": [
    {
     "name": "stdout",
     "output_type": "stream",
     "text": [
      "[9, 6, 3, 12, 15, 18, 21, 24, 27, 30, 33, 36, 39, 42, 45, 48, 51, 54, 57, 60, 63, 66, 69, 72, 75, 78, 81, 84, 87, 90, 93, 96, 99]\n",
      "[3, 6, 9, 12, 15, 18, 21, 24, 27, 30, 33, 36, 39, 42, 45, 48, 51, 54, 57, 60, 63, 66, 69, 72, 75, 78, 81, 84, 87, 90, 93, 96, 99]\n"
     ]
    }
   ],
   "source": [
    "## SWAP INSIDE LISTS WITH TEMP VARIBALE\n",
    "temp = l1[0]\n",
    "l1[0] = l1[2]\n",
    "l1[2] = temp\n",
    "print(l1)\n",
    "\n",
    "# SWAP DIRECTLY\n",
    "l1[0], l1[2] = l1[2], l1[0]\n",
    "print(l1)"
   ]
  },
  {
   "cell_type": "code",
   "execution_count": 4,
   "metadata": {},
   "outputs": [
    {
     "name": "stdout",
     "output_type": "stream",
     "text": [
      "[3, 6, 9, 12, 15, 18, 21, 24, 27, 30, 33, 36, 39, 42, 45, 48, 51, 54, 57, 60, 63, 66, 69, 72, 75, 78, 81, 84, 87, 90, 93, 96, 99]\n",
      "2418\n",
      "[5, 10, 20, 25, 35, 40, 50, 55, 65, 70, 80, 85, 95, 100]\n"
     ]
    }
   ],
   "source": [
    "l1 = []\n",
    "l2 = []\n",
    "t1 = 0\n",
    "t2 =0\n",
    "for i in range(1,101):\n",
    "    if(i%3==0):\n",
    "        t1 += i\n",
    "        #print(i, end= \" \")\n",
    "        l1.append(i)\n",
    "    elif(i%5==0):\n",
    "        t1 += i\n",
    "        #print(i, end= \" \")\n",
    "        l2.append(i)\n",
    "        \n",
    "print(l1) \n",
    "print(t1)\n",
    "print(l2)\n"
   ]
  },
  {
   "cell_type": "code",
   "execution_count": 1,
   "metadata": {},
   "outputs": [
    {
     "name": "stdout",
     "output_type": "stream",
     "text": [
      "-25\n"
     ]
    }
   ],
   "source": [
    "list1= [9, 8, 5, 6, -2, -4, -7, -12]\n",
    "sum = 0\n",
    "i = len(list1)-1\n",
    "while(list1[i] <0):\n",
    "    sum += list1[i]\n",
    "    i -= 1\n",
    "        \n",
    "print(sum)"
   ]
  },
  {
   "cell_type": "code",
   "execution_count": null,
   "metadata": {},
   "outputs": [],
   "source": []
  }
 ],
 "metadata": {
  "kernelspec": {
   "display_name": "Python 3",
   "language": "python",
   "name": "python3"
  },
  "language_info": {
   "codemirror_mode": {
    "name": "ipython",
    "version": 3
   },
   "file_extension": ".py",
   "mimetype": "text/x-python",
   "name": "python",
   "nbconvert_exporter": "python",
   "pygments_lexer": "ipython3",
   "version": "3.7.1"
  }
 },
 "nbformat": 4,
 "nbformat_minor": 2
}
